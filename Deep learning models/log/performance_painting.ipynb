{
 "cells": [
  {
   "cell_type": "code",
   "execution_count": 22,
   "metadata": {},
   "outputs": [
    {
     "data": {
      "image/png": "[encoded data removed]",
      "text/plain": [
       "<Figure size 432x288 with 1 Axes>"
      ]
     },
     "metadata": {
      "needs_background": "light"
     },
     "output_type": "display_data"
    }
   ],
   "source": [
    "# -*- coding: UTF-8 -*-\n",
    "import numpy as np\n",
    "import matplotlib as mpl\n",
    "import matplotlib.pyplot as plt\n",
    "\n",
    "# item = \"lstm_aug\"\n",
    "# item = \"lstm_ema\"\n",
    "# item = \"lstm_fgm\"\n",
    "# item = \"lstm_fgm_aug\"\n",
    "# item = \"lstm_ema_aug\"\n",
    "\n",
    "# item = \"bert_aug\"\n",
    "# item = \"bert_aug\"\n",
    "# item = \"bert_fgm\"\n",
    "# item = \"bert_fgm_aug\"\n",
    "# item = \"bert_ema_aug\"\n",
    "\n",
    "plt.title('Analysis: TRANS_EMA+AUG')\n",
    "# item = \"trans_aug\"\n",
    "# item = \"trans_ema\"\n",
    "# item = \"trans_fgm\"\n",
    "# item = \"trans_fgm_aug\"\n",
    "item = \"trans_ema_aug\"\n",
    "\n",
    "path = f\"./{item}.log\"\n",
    "\n",
    "\n",
    "train_loss = []\n",
    "test_loss = []\n",
    "acc = []\n",
    "\n",
    "with open(path, \"r\") as f:\n",
    "    \n",
    "    for line in f.readlines():\n",
    "        if line.startswith(\"train loss\"):\n",
    "            train_loss.append(float(line.strip().split(\":\")[-1]))\n",
    "        if line.startswith(\"test loss\"):\n",
    "            test_loss.append(float(line.strip().split(\":\")[-1]))\n",
    "        if line.startswith(\"ACC\"):\n",
    "            acc.append(float(line.strip().split(\"=\")[-1]))\n",
    "\n",
    "# assert len(train_loss) == len(test_loss)\n",
    ", print(len(train_loss), len(test_loss))\n",
    "# assert len(train_loss) == len(acc), print(len(train_loss), len(acc))\n",
    "\n",
    "x_axix = list(range(len(acc)-1))\n",
    "            \n",
    "#开始画图\n",
    "# plt.title('Analysis: ' + item.replace(\"_\", \"+\"))\n",
    "\n",
    "plt.plot(x_axix, acc[:-1], color='green', label='accuracy')\n",
    "plt.plot(x_axix, train_loss,  color='skyblue', label='train loss')\n",
    "plt.plot(x_axix, test_loss, color='blue', label='test_loss')\n",
    "plt.legend() # 显示图例\n",
    "\n",
    "plt.xlabel(f'epochs, final acc: {round(acc[-1], 3)}')\n",
    "plt.savefig(item + \".png\")\n",
    "plt.show()\n",
    "\n",
    "#python 一个折线图绘制多个曲线"
   ]
  },
  {
   "cell_type": "code",
   "execution_count": 4,
   "metadata": {},
   "outputs": [
    {
     "name": "stdout",
     "output_type": "stream",
     "text": [
      "0.1231\n"
     ]
    }
   ],
   "source": []
  },
  {
   "cell_type": "code",
   "execution_count": null,
   "metadata": {},
   "outputs": [],
   "source": []
  }
 ],
 "metadata": {
  "kernelspec": {
   "display_name": "Python 3",
   "language": "python",
   "name": "python3"
  },
  "language_info": {
   "codemirror_mode": {
    "name": "ipython",
    "version": 3
   },
   "file_extension": ".py",
   "mimetype": "text/x-python",
   "name": "python",
   "nbconvert_exporter": "python",
   "pygments_lexer": "ipython3",
   "version": "3.7.4"
  }
 },
 "nbformat": 4,
 "nbformat_minor": 5
}
